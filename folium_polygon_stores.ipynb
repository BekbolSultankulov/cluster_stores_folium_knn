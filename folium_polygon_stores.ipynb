{
 "cells": [
  {
   "cell_type": "code",
   "execution_count": null,
   "id": "25a94bb2",
   "metadata": {},
   "outputs": [],
   "source": [
    "import folium\n",
    "import pandas as pd\n",
    "from shapely.geometry.polygon import Polygon, Point\n",
    "import ast\n",
    "df=pd.read_excel(r'C:\\Users\\svnduw\\Desktop\\Bekbol\\Chingis\\франшиза\\all_stores.xlsx')\n",
    "all_board=pd.read_excel(r'C:\\Users\\svnduw\\Desktop\\Bekbol\\Chingis\\general_data\\boarding_cities.xlsx')\n",
    "all_board['polygon'] = all_board['polygon'].apply(ast.literal_eval)\n",
    "df.dropna(subset=['lon', 'lat'],inplace=True)"
   ]
  },
  {
   "cell_type": "code",
   "execution_count": null,
   "id": "42d4bbf4",
   "metadata": {},
   "outputs": [],
   "source": [
    "need_cities=['Aktau','Almaty','Atyrau','Karagandy','Kokshetau','Kostanay','Nur-Sultan','Pavlodar','Petropavlovsk','Semey','Taraz','Oral','Oskemen','Shymkent']\n",
    "indexes=all_board[all_board.region_name.isin(need_cities)]\n",
    "result={}\n",
    "for index,row in indexes.iterrows():\n",
    "    result[row['region_name']]=index\n"
   ]
  },
  {
   "cell_type": "code",
   "execution_count": null,
   "id": "4735aacb",
   "metadata": {},
   "outputs": [],
   "source": [
    "from shapely.geometry import Point\n",
    "from shapely.geometry.polygon import Polygon\n",
    "import numpy as np\n",
    "for key,value in result.items():\n",
    "    temp=df.copy()    \n",
    "    temp['check']=None\n",
    "    lat=[]\n",
    "    lng=[]\n",
    "    for i in range(len(all_board['polygon'][int(value)])):\n",
    "        lat.append(all_board['polygon'][int(value)][i][0])\n",
    "        lng.append(all_board['polygon'][int(value)][i][1])\n",
    "    lons_lats_vect = np.column_stack((lat, lng)) # Reshape coordinates\n",
    "    polygon = Polygon(lons_lats_vect)\n",
    "    for index,row in temp.iterrows():\n",
    "        point = Point(row['lon'],row['lat']) # create point\n",
    "        if polygon.contains(point)==True:\n",
    "            temp.at[index,'check']=True\n",
    "        else:\n",
    "            temp.at[index,'check']=False\n",
    "    temp=temp[temp['check']==True]\n",
    "    temp.to_excel(f'C:\\\\Users\\\\svnduw\\\\Desktop\\\\Bekbol\\\\Chingis\\\\франшиза\\\\all_cities\\\\{key}.xlsx',index=False)\n",
    "    \n",
    "    "
   ]
  },
  {
   "cell_type": "code",
   "execution_count": null,
   "id": "8cdaaf1a",
   "metadata": {},
   "outputs": [],
   "source": [
    "lat=[]\n",
    "lng=[]\n",
    "points=[]\n",
    "for i in range(len(all_board['polygon'][57])):\n",
    "    lat.append(all_board['polygon'][57][i][0])\n",
    "    lng.append(all_board['polygon'][57][i][1])\n",
    "for j in range(len(lat)):\n",
    "    points.append(tuple([lng[j],lat[j]]))    "
   ]
  },
  {
   "cell_type": "code",
   "execution_count": null,
   "id": "05dd7a2e",
   "metadata": {},
   "outputs": [],
   "source": [
    "# from shapely.geometry import Point\n",
    "# from shapely.geometry.polygon import Polygon\n",
    "# import numpy as np\n",
    "# df['check']=None\n",
    "# lons_lats_vect = np.column_stack((lat, lng)) # Reshape coordinates\n",
    "# polygon = Polygon(lons_lats_vect)\n",
    "# for index,row in df.iterrows():\n",
    "#     point = Point(row['lon'],row['lat']) # create point\n",
    "#     if polygon.contains(point)==True:\n",
    "#         df.at[index,'check']=True\n",
    "#     else:\n",
    "#         df.at[index,'check']=False \n"
   ]
  },
  {
   "cell_type": "code",
   "execution_count": null,
   "id": "ee53deeb",
   "metadata": {},
   "outputs": [],
   "source": [
    "import numpy as np\n",
    "import matplotlib.pyplot as plt\n",
    "from sklearn.cluster import KMeans\n",
    "import seaborn as sns; sns.set()"
   ]
  },
  {
   "cell_type": "code",
   "execution_count": null,
   "id": "88308977",
   "metadata": {},
   "outputs": [],
   "source": [
    "import os\n",
    "path=r'C:\\Users\\svnduw\\Desktop\\Bekbol\\Chingis\\франшиза\\all_cities'\n",
    "files=os.listdir(path)\n",
    "df=pd.read_excel(f'{path}\\\\{files[6]}')\n",
    "X=df.loc[:,['id','lat','lon']]"
   ]
  },
  {
   "cell_type": "code",
   "execution_count": null,
   "id": "a9343c8a",
   "metadata": {},
   "outputs": [],
   "source": [
    "kmeans = KMeans(n_clusters = 6,random_state = 1)\n",
    "kmeans.fit(X[X.columns[1:3]]) # Compute k-means clustering.\n",
    "X['cluster_label_first'] = kmeans.fit_predict(X[X.columns[1:3]])\n",
    "centers = kmeans.cluster_centers_ # Coordinates of cluster centers.\n",
    "labels = kmeans.predict(X[X.columns[1:3]]) # Labels of each point\n",
    "temp=df.merge(X,on=['id','lat','lon'],how='left')"
   ]
  },
  {
   "cell_type": "code",
   "execution_count": null,
   "id": "62f37940",
   "metadata": {},
   "outputs": [],
   "source": [
    "temp.to_excel(r'C:\\Users\\svnduw\\Desktop\\Bekbol\\Chingis\\франшиза\\result\\astana.xlsx',index=False)"
   ]
  },
  {
   "cell_type": "code",
   "execution_count": null,
   "id": "6ff014b4",
   "metadata": {},
   "outputs": [],
   "source": [
    "name='shymkent'\n",
    "b=pd.DataFrame()\n",
    "b.to_excel(f'C:\\\\Users\\\\svnduw\\\\Desktop\\\\Bekbol\\\\Chingis\\\\франшиза\\\\result\\\\{name}.xlsx')\n",
    "for i in temp.cluster_label_first.unique().tolist():    \n",
    "    a=temp[temp.cluster_label_first.isin([i])]\n",
    "    with pd.ExcelWriter(f'C:\\\\Users\\\\svnduw\\\\Desktop\\\\Bekbol\\\\Chingis\\\\франшиза\\\\result\\\\{name}.xlsx',engine=\"openpyxl\", mode='a') as writer:\n",
    "        a.to_excel(writer, sheet_name=str(i),index=False)\n",
    "        writer.save()\n",
    "        \n",
    "    \n"
   ]
  },
  {
   "cell_type": "code",
   "execution_count": null,
   "id": "4275849c",
   "metadata": {},
   "outputs": [],
   "source": [
    "temp=pd.read_excel(r'C:\\Users\\svnduw\\Downloads\\Shymkent_balanced.xlsx')"
   ]
  },
  {
   "cell_type": "code",
   "execution_count": null,
   "id": "b7439e53",
   "metadata": {},
   "outputs": [],
   "source": [
    "temp.cluster_label_first.value_counts()"
   ]
  },
  {
   "cell_type": "code",
   "execution_count": null,
   "id": "bdd956a5",
   "metadata": {},
   "outputs": [],
   "source": [
    "zero=temp[temp.cluster_label_first==0]\n",
    "one=temp[temp.cluster_label_first==1]\n",
    "two=temp[temp.cluster_label_first==2]\n",
    "three=temp[temp.cluster_label_first==3]\n",
    "# four=temp[temp.cluster_label_first==4]\n",
    "# five=temp[temp.cluster_label_first==5]\n",
    "# five.drop(2112,inplace=True)\n"
   ]
  },
  {
   "cell_type": "code",
   "execution_count": null,
   "id": "49a8ab16",
   "metadata": {},
   "outputs": [],
   "source": [
    "print('1st franchise:',len(zero))\n",
    "print('2nd franchise:',len(one))\n",
    "# print('3th franchise:',len(two))\n"
   ]
  },
  {
   "cell_type": "code",
   "execution_count": null,
   "id": "f4ba55f4",
   "metadata": {},
   "outputs": [],
   "source": [
    "m = folium.Map(location=[42.3417,69.5901], tiles=\"open street map\", zoom_start=11,zoom_end=20)\n",
    "folium.PolyLine(locations=points, color='#000000', weight=2.5).add_to(m)\n",
    "for index,row in zero.iterrows():\n",
    "    folium.Circle([row['lat'], row['lon']],                    \n",
    "                  popup=row['id'],\n",
    "                  color='#FF0000' #красный          \n",
    "                   ).add_to(m)\n",
    "for index,row in one.iterrows():\n",
    "    folium.Circle([row['lat'], row['lon']],                    \n",
    "                  popup=row['id'],\n",
    "                  color='#6C3483 '  #фиолетовый\n",
    "                   ).add_to(m)\n",
    "for index,row in two.iterrows():\n",
    "    folium.Circle([row['lat'], row['lon']],                    \n",
    "                  popup=row['id'],\n",
    "                  color='#28B463'   #зеленый \n",
    "                   ).add_to(m)\n",
    "for index,row in three.iterrows():\n",
    "    folium.Circle([row['lat'], row['lon']],                    \n",
    "                  popup=row['id'],\n",
    "                  color='#DEA219'\n",
    "                   ).add_to(m)     #желтый яркий\n",
    "    \n",
    "# for index,row in four.iterrows():\n",
    "#     folium.Circle([row['lat'], row['lon']],                    \n",
    "#                   popup=row['id'],\n",
    "#                   color='#252aa3'\n",
    "#                    ).add_to(m)\n",
    "# for index,row in five.iterrows():\n",
    "#     folium.Circle([row['lat'], row['lon']],                    \n",
    "#                   popup=row['id'],\n",
    "#                   color='#138484'\n",
    "#                    ).add_to(m)"
   ]
  },
  {
   "cell_type": "code",
   "execution_count": null,
   "id": "a5971d30",
   "metadata": {},
   "outputs": [],
   "source": [
    "m"
   ]
  },
  {
   "cell_type": "code",
   "execution_count": null,
   "id": "a192758a",
   "metadata": {},
   "outputs": [],
   "source": [
    "m.save(outfile=r\"C:\\Users\\svnduw\\Desktop\\Bekbol\\Chingis\\франшиза\\result\\shymkent.html\")"
   ]
  },
  {
   "cell_type": "code",
   "execution_count": null,
   "id": "e61f4680",
   "metadata": {},
   "outputs": [],
   "source": []
  }
 ],
 "metadata": {
  "kernelspec": {
   "display_name": "Python 3",
   "language": "python",
   "name": "python3"
  },
  "language_info": {
   "codemirror_mode": {
    "name": "ipython",
    "version": 3
   },
   "file_extension": ".py",
   "mimetype": "text/x-python",
   "name": "python",
   "nbconvert_exporter": "python",
   "pygments_lexer": "ipython3",
   "version": "3.8.8"
  }
 },
 "nbformat": 4,
 "nbformat_minor": 5
}
